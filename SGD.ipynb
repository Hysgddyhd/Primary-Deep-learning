{
 "cells": [
  {
   "cell_type": "code",
   "execution_count": null,
   "id": "18689145-9964-452b-9865-5841ae790ee3",
   "metadata": {},
   "outputs": [],
   "source": []
  }
 ],
 "metadata": {
  "kernelspec": {
   "display_name": "",
   "name": ""
  },
  "language_info": {
   "name": ""
  }
 },
 "nbformat": 4,
 "nbformat_minor": 5
}
