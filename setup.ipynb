{
 "cells": [
  {
   "cell_type": "code",
   "execution_count": 9,
   "id": "3a364576-11ff-4a9f-b8e9-7da66b19f360",
   "metadata": {},
   "outputs": [],
   "source": [
    "import scipy\n",
    "import seaborn\n",
    "import matplotlib\n",
    "#matplotlib inline"
   ]
  },
  {
   "cell_type": "code",
   "execution_count": 15,
   "id": "997c6011-6fb7-4b1a-9aea-ac14a4228252",
   "metadata": {},
   "outputs": [],
   "source": [
    " import tensorflow.compat.v1 as tf  \n",
    "tf.compat.v1.disable_eager_execution()"
   ]
  },
  {
   "cell_type": "code",
   "execution_count": 24,
   "id": "1964289f-4816-473d-a013-951b8b17f04b",
   "metadata": {},
   "outputs": [
    {
     "name": "stdout",
     "output_type": "stream",
     "text": [
      "[1.03 2.03 3.03]\n"
     ]
    }
   ],
   "source": [
    "# declare two symbolic floating-point scalars\n",
    "a = tf.placeholder(tf.float32)\n",
    "b = tf.placeholder(tf.float32)\n",
    "# create a simple symbolic expression using the add function\n",
    "add = tf.add(a, b)\n",
    "# bind 1.5 toa , 2.5 tob , and evaluate c\n",
    "sess = tf.Session()\n",
    "binding = {a: [1,2,3], b: 0.03}\n",
    "c = sess.run(add, feed_dict=binding)\n",
    "print(c)"
   ]
  },
  {
   "cell_type": "code",
   "execution_count": 19,
   "id": "39ccba8a-9271-4da9-b6ae-919135e316cd",
   "metadata": {},
   "outputs": [
    {
     "data": {
      "text/plain": [
       "\u001b[1;31mSignature:\u001b[0m \u001b[0mtf\u001b[0m\u001b[1;33m.\u001b[0m\u001b[0madd\u001b[0m\u001b[1;33m(\u001b[0m\u001b[0mx\u001b[0m\u001b[1;33m,\u001b[0m \u001b[0my\u001b[0m\u001b[1;33m,\u001b[0m \u001b[0mname\u001b[0m\u001b[1;33m=\u001b[0m\u001b[1;32mNone\u001b[0m\u001b[1;33m)\u001b[0m\u001b[1;33m\u001b[0m\u001b[1;33m\u001b[0m\u001b[0m\n",
       "\u001b[1;31mDocstring:\u001b[0m\n",
       "Returns x + y element-wise.\n",
       "\n",
       "Example usages below.\n",
       "\n",
       "Add a scalar and a list:\n",
       "\n",
       ">>> x = [1, 2, 3, 4, 5]\n",
       ">>> y = 1\n",
       ">>> tf.add(x, y)\n",
       "<tf.Tensor: shape=(5,), dtype=int32, numpy=array([2, 3, 4, 5, 6],\n",
       "dtype=int32)>\n",
       "\n",
       "Note that binary `+` operator can be used instead:\n",
       "\n",
       ">>> x = tf.convert_to_tensor([1, 2, 3, 4, 5])\n",
       ">>> y = tf.convert_to_tensor(1)\n",
       ">>> x + y\n",
       "<tf.Tensor: shape=(5,), dtype=int32, numpy=array([2, 3, 4, 5, 6],\n",
       "dtype=int32)>\n",
       "\n",
       "Add a tensor and a list of same shape:\n",
       "\n",
       ">>> x = [1, 2, 3, 4, 5]\n",
       ">>> y = tf.constant([1, 2, 3, 4, 5])\n",
       ">>> tf.add(x, y)\n",
       "<tf.Tensor: shape=(5,), dtype=int32,\n",
       "numpy=array([ 2,  4,  6,  8, 10], dtype=int32)>\n",
       "\n",
       "**Warning**: If one of the inputs (`x` or `y`) is a tensor and the other is a\n",
       "non-tensor, the non-tensor input will adopt (or get casted to) the data type\n",
       "of the tensor input. This can potentially cause unwanted overflow or underflow\n",
       "conversion.\n",
       "\n",
       "For example,\n",
       "\n",
       ">>> x = tf.constant([1, 2], dtype=tf.int8)\n",
       ">>> y = [2**7 + 1, 2**7 + 2]\n",
       ">>> tf.add(x, y)\n",
       "<tf.Tensor: shape=(2,), dtype=int8, numpy=array([-126, -124], dtype=int8)>\n",
       "\n",
       "When adding two input values of different shapes, `Add` follows NumPy\n",
       "broadcasting rules. The two input array shapes are compared element-wise.\n",
       "Starting with the trailing dimensions, the two dimensions either have to be\n",
       "equal or one of them needs to be `1`.\n",
       "\n",
       "For example,\n",
       "\n",
       ">>> x = np.ones(6).reshape(1, 2, 1, 3)\n",
       ">>> y = np.ones(6).reshape(2, 1, 3, 1)\n",
       ">>> tf.add(x, y).shape.as_list()\n",
       "[2, 2, 3, 3]\n",
       "\n",
       "Another example with two arrays of different dimension.\n",
       "\n",
       ">>> x = np.ones([1, 2, 1, 4])\n",
       ">>> y = np.ones([3, 4])\n",
       ">>> tf.add(x, y).shape.as_list()\n",
       "[1, 2, 3, 4]\n",
       "\n",
       "The reduction version of this elementwise operation is `tf.math.reduce_sum`\n",
       "\n",
       "Args:\n",
       "  x: A `tf.Tensor`. Must be one of the following types: bfloat16, half,\n",
       "    float16, float32, float64, uint8, uint16, uint32, uint64, int8, int16,\n",
       "    int32, int64, complex64, complex128, string.\n",
       "  y: A `tf.Tensor`. Must have the same type as x.\n",
       "  name: A name for the operation (optional)\n",
       "\u001b[1;31mFile:\u001b[0m      c:\\users\\cloud\\appdata\\local\\programs\\python\\python311\\lib\\site-packages\\tensorflow\\python\\ops\\math_ops.py\n",
       "\u001b[1;31mType:\u001b[0m      function"
      ]
     },
     "metadata": {},
     "output_type": "display_data"
    }
   ],
   "source": [
    "add=tf.add?"
   ]
  },
  {
   "cell_type": "code",
   "execution_count": null,
   "id": "3a41522d-4c52-4340-8930-f604f2ab7aa2",
   "metadata": {},
   "outputs": [],
   "source": []
  }
 ],
 "metadata": {
  "kernelspec": {
   "display_name": "Python 3 (ipykernel)",
   "language": "python",
   "name": "python3"
  },
  "language_info": {
   "codemirror_mode": {
    "name": "ipython",
    "version": 3
   },
   "file_extension": ".py",
   "mimetype": "text/x-python",
   "name": "python",
   "nbconvert_exporter": "python",
   "pygments_lexer": "ipython3",
   "version": "3.11.9"
  }
 },
 "nbformat": 4,
 "nbformat_minor": 5
}
